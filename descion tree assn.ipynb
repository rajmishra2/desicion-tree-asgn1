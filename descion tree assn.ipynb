{
 "cells": [
  {
   "cell_type": "markdown",
   "id": "b4faf258-73e6-453e-a036-f6d9eecaf5d2",
   "metadata": {},
   "source": [
    "Q1. Describe the decision tree classifier algorithm and how it works to make predictions.\n",
    "\n",
    "A decision tree algorithm is a machine learning algorithm that uses a decision tree to make predictions. It follows a tree-like model of decisions and their possible consequences. The algorithm works by recursively splitting the data into subsets based on the most significant feature at each node of the tree"
   ]
  },
  {
   "cell_type": "markdown",
   "id": "1457effc-89d1-414c-bb18-e17335ffbfa3",
   "metadata": {},
   "source": [
    "Q2. Provide a step-by-step explanation of the mathematical intuition behind decision tree classification.\n",
    "A decision tree is built top-down from a root node and involves partitioning the data into subsets that contain instances with similar values (homogeneous). ID3 algorithm uses entropy to calculate the homogeneity of a sample. If the sample is completely homogeneous the entropy is zero and if the sample is equally divided it has entropy of one.\n",
    "\n",
    "Mathematically,\n",
    "There are 4 popular types of decision tree algorithms: ID3, CART (Classification and Regression Trees), Chi-Square, and Reduction in Variance.\n"
   ]
  },
  {
   "cell_type": "markdown",
   "id": "398f06ca-c322-4715-8b4d-01efe8539aac",
   "metadata": {},
   "source": [
    "Q3. Explain how a decision tree classifier can be used to solve a binary classification problem.\n",
    "After the first split, the decision tree algorithm examines each of the two subsets of data and finds a predictor variable and a value that gives the most information. The process continues until a program-specified maximum tree depth is reached. There are several algorithms to split data"
   ]
  },
  {
   "cell_type": "markdown",
   "id": "392b3e8a-9658-43ef-a856-9f6f365bca53",
   "metadata": {},
   "source": [
    "Q4. Discuss the geometric intuition behind decision tree classification and how it can be used to make\n",
    "predictions.\n",
    "In a decision tree, the process of “marking the cut” involves selecting a specific threshold or value for a feature that optimally divides the data into distinct branches. This threshold is chosen in a way that minimizes the impurity within each resulting branch"
   ]
  },
  {
   "cell_type": "markdown",
   "id": "40275758-b65c-465a-8688-25a1367da781",
   "metadata": {},
   "source": [
    "Q5. Define the confusion matrix and describe how it can be used to evaluate the performance of a\n",
    "classification model.\n",
    "A confusion matrix, also known as an error matrix, is a summarized table used to assess the performance of a classification model. The number of correct and incorrect predictions are summarized with count values and broken down by each class. Below is an image of the structure of a 2×2 confusion matrix."
   ]
  },
  {
   "cell_type": "markdown",
   "id": "790d82ab-a2ec-45a6-b4ab-3ad09798b1fa",
   "metadata": {},
   "source": [
    "Q6. Provide an example of a confusion matrix and explain how precision, recall, and F1 score can be\n",
    "calculated from it.\n",
    "It is a matrix of size 2×2 for binary classification with actual values on one axis and predicted on another.\n",
    "Both precision and recall are crucial for information retrieval, where positive class mattered the most as compared to negative\n",
    "While searching something on the web, the model does not care about something irrelevant and not retrieved (this is the true negative case). Therefore only TP, FP, FN are used in Precision and Recall.\n",
    "Out of the total positive, what percentage are predicted positive. It is the same as TPR (true positive rate).\n",
    "It is the harmonic mean of precision and recall. It takes both false positive and false negatives into account. Therefore, it performs well on an imbalanced dataset."
   ]
  },
  {
   "cell_type": "markdown",
   "id": "a52c376a-2274-4c7d-be02-0d83c7fd64da",
   "metadata": {},
   "source": [
    "Q7. Discuss the importance of choosing an appropriate evaluation metric for a classification problem and\n",
    "explain how this can be done.\n",
    "\n",
    "1\n",
    "Define your problem type\n",
    "2\n",
    "Identify your stakeholders and goals\n",
    "3\n",
    "Choose relevant and interpretable metrics\n",
    "4\n",
    "Consider multiple and complementary metrics\n",
    "5\n",
    "Evaluate the trade-offs between metrics\n",
    "6\n",
    "Here’s what else to consider"
   ]
  },
  {
   "cell_type": "code",
   "execution_count": null,
   "id": "e90e0d46-5ddd-431c-9fc7-859ab28628b5",
   "metadata": {},
   "outputs": [],
   "source": [
    "Q8. Provide an example of a classification problem where precision is the most important metric, and\n",
    "explain why.\n"
   ]
  }
 ],
 "metadata": {
  "kernelspec": {
   "display_name": "Python 3 (ipykernel)",
   "language": "python",
   "name": "python3"
  },
  "language_info": {
   "codemirror_mode": {
    "name": "ipython",
    "version": 3
   },
   "file_extension": ".py",
   "mimetype": "text/x-python",
   "name": "python",
   "nbconvert_exporter": "python",
   "pygments_lexer": "ipython3",
   "version": "3.10.8"
  }
 },
 "nbformat": 4,
 "nbformat_minor": 5
}
